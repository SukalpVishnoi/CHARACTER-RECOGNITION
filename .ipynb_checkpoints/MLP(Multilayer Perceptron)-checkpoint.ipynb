{
 "cells": [
  {
   "cell_type": "code",
   "execution_count": 1,
   "id": "5917d39c",
   "metadata": {},
   "outputs": [
    {
     "name": "stdout",
     "output_type": "stream",
     "text": [
      "Imported the EMNIST libraries we need!\n"
     ]
    }
   ],
   "source": [
    "from emnist import extract_training_samples\n",
    "\n",
    "print(\"Imported the EMNIST libraries we need!\")"
   ]
  },
  {
   "cell_type": "code",
   "execution_count": 2,
   "id": "3e9141b1",
   "metadata": {},
   "outputs": [],
   "source": [
    "# Grab the data from the OpenML website\n",
    "# X will be our images and y will be the labels\n",
    "X_letter, y_letter = extract_training_samples('letters')\n",
    "X_digits, y_digits = extract_training_samples('digits')"
   ]
  },
  {
   "cell_type": "code",
   "execution_count": 3,
   "id": "c1b716da",
   "metadata": {},
   "outputs": [
    {
     "name": "stdout",
     "output_type": "stream",
     "text": [
      "Image Label: 7\n",
      "Image index: 7\n"
     ]
    },
    {
     "data": {
      "text/plain": [
       "<matplotlib.image.AxesImage at 0x21b2f0a41f0>"
      ]
     },
     "execution_count": 3,
     "metadata": {},
     "output_type": "execute_result"
    },
    {
     "data": {
      "image/png": "[encoded data removed]",
      "text/plain": [
       "<Figure size 432x288 with 1 Axes>"
      ]
     },
     "metadata": {
      "needs_background": "light"
     },
     "output_type": "display_data"
    }
   ],
   "source": [
    "import matplotlib.pyplot as plt\n",
    "\n",
    "# lets view the some data\n",
    "img_index = 29 # <<<<<  You can update this value to look at other images\n",
    "img = X_digits[img_index]\n",
    "print(\"Image Label: \" + str(chr(y_digits[img_index]+48)))\n",
    "print(\"Image index: \" + str(y_digits[img_index]))\n",
    "plt.imshow(img.reshape((28,28)))"
   ]
  },
  {
   "cell_type": "code",
   "execution_count": 4,
   "id": "00427ad8",
   "metadata": {},
   "outputs": [
    {
     "name": "stdout",
     "output_type": "stream",
     "text": [
      "Image Label: a\n",
      "Image index: 1\n"
     ]
    },
    {
     "data": {
      "text/plain": [
       "<matplotlib.image.AxesImage at 0x21b2f83f070>"
      ]
     },
     "execution_count": 4,
     "metadata": {},
     "output_type": "execute_result"
    },
    {
     "data": {
      "image/png": "[encoded data removed]",
      "text/plain": [
       "<Figure size 432x288 with 1 Axes>"
      ]
     },
     "metadata": {
      "needs_background": "light"
     },
     "output_type": "display_data"
    }
   ],
   "source": [
    "img_index = 29 # <<<<<  You can update this value to look at other images\n",
    "img = X_letter[img_index]\n",
    "print(\"Image Label: \" + str(chr(y_letter[img_index]+96)))\n",
    "print(\"Image index: \" + str(y_letter[img_index]))\n",
    "plt.imshow(img.reshape((28,28)))"
   ]
  },
  {
   "cell_type": "code",
   "execution_count": 5,
   "id": "429c710e",
   "metadata": {
    "scrolled": true
   },
   "outputs": [
    {
     "name": "stdout",
     "output_type": "stream",
     "text": [
      "Size = 124800\n",
      "Shape =(124800,)\n",
      "Shape[0]= 124800\n"
     ]
    }
   ],
   "source": [
    "#labels of letters\n",
    "\n",
    "# dataframe.size\n",
    "size_letter = y_letter.size\n",
    "\n",
    "# dataframe.shape\n",
    "shape_letter = y_letter.shape\n",
    "\n",
    "\n",
    "# printing size and shape\n",
    "print(\"Size = {}\\nShape ={}\\nShape[0]= {}\".\n",
    "format(size_letter, shape_letter, shape_letter[0]))"
   ]
  },
  {
   "cell_type": "code",
   "execution_count": 6,
   "id": "88664370",
   "metadata": {},
   "outputs": [],
   "source": [
    "# importing numpy module\n",
    "import numpy as np"
   ]
  },
  {
   "cell_type": "code",
   "execution_count": 7,
   "id": "48041234",
   "metadata": {},
   "outputs": [
    {
     "name": "stdout",
     "output_type": "stream",
     "text": [
      "Image Label: v\n",
      "Image index: 70\n"
     ]
    },
    {
     "data": {
      "text/plain": [
       "<matplotlib.image.AxesImage at 0x21b2f8a8490>"
      ]
     },
     "execution_count": 7,
     "metadata": {},
     "output_type": "execute_result"
    },
    {
     "data": {
      "image/png": "[encoded data removed]",
      "text/plain": [
       "<Figure size 432x288 with 1 Axes>"
      ]
     },
     "metadata": {
      "needs_background": "light"
     },
     "output_type": "display_data"
    }
   ],
   "source": [
    "# we will be combining both the dataset so\n",
    "# now the index of letters need to be changes as they are clashing with that of the digits\n",
    "\n",
    "y_letter_update = np.empty(size_letter, dtype=int)\n",
    "for i in range(size_letter):\n",
    "    y_letter_update[i] = y_letter[i] + 48\n",
    "\n",
    "img_index = 239 # <<<<<  You can update this value to look at other images\n",
    "img = X_letter[img_index]\n",
    "print(\"Image Label: \" + str(chr(y_letter_update[img_index]+48)))\n",
    "print(\"Image index: \" + str(y_letter_update[img_index]))\n",
    "plt.imshow(img.reshape((28,28)))"
   ]
  },
  {
   "cell_type": "code",
   "execution_count": 8,
   "id": "34ff6ba0",
   "metadata": {},
   "outputs": [],
   "source": [
    "# final set that contains both digits and letters\n",
    "X, y= X_digits, y_digits\n",
    "\n",
    "X = np.concatenate((X, X_letter))\n",
    "y = np.concatenate((y, y_letter_update))\n",
    "\n",
    "\n",
    "# Make sure that every pixel in all of the images is a value between 0 and 1\n",
    "X = X / 255."
   ]
  },
  {
   "cell_type": "code",
   "execution_count": 9,
   "id": "e1b3c221",
   "metadata": {},
   "outputs": [
    {
     "name": "stdout",
     "output_type": "stream",
     "text": [
      "Extracted our samples and divided our training and testing data sets\n"
     ]
    }
   ],
   "source": [
    "# Dividing the dataset into training and testing \n",
    "# Using train/test split \n",
    "from sklearn.model_selection import train_test_split\n",
    "\n",
    "# spliting our data randomly into roughly 70% used for training the model and 30% for testing the model\n",
    "(X_train, X_test, y_train, y_test) = train_test_split(X, y, test_size=0.3, random_state=42) \n",
    "\n",
    "print(\"Extracted our samples and divided our training and testing data sets\")"
   ]
  },
  {
   "cell_type": "code",
   "execution_count": 10,
   "id": "c4788212",
   "metadata": {},
   "outputs": [
    {
     "name": "stdout",
     "output_type": "stream",
     "text": [
      "Size = 200202240\n",
      "Shape =(255360, 28, 28)\n",
      "Shape[0] x Shape[1] x Shape[2] = 200202240\n"
     ]
    }
   ],
   "source": [
    "# dataframe.size\n",
    "size_train = X_train.size\n",
    "\n",
    "# dataframe.shape\n",
    "shape_train = X_train.shape\n",
    "\n",
    "\n",
    "# printing size and shape\n",
    "print(\"Size = {}\\nShape ={}\\nShape[0] x Shape[1] x Shape[2] = {}\".\n",
    "format(size_train, shape_train, shape_train[0]*shape_train[1]*shape_train[2]))"
   ]
  },
  {
   "cell_type": "code",
   "execution_count": 11,
   "id": "a028a119",
   "metadata": {},
   "outputs": [
    {
     "name": "stdout",
     "output_type": "stream",
     "text": [
      "Size = 85800960\n",
      "Shape =(109440, 28, 28)\n",
      "Shape[0] x Shape[1] x Shape[2] = 85800960\n"
     ]
    }
   ],
   "source": [
    "# dataframe.size\n",
    "size_test = X_test.size\n",
    "\n",
    "# dataframe.shape\n",
    "shape_test = X_test.shape\n",
    "\n",
    "\n",
    "# printing size and shape\n",
    "print(\"Size = {}\\nShape ={}\\nShape[0] x Shape[1] x Shape[2] = {}\".\n",
    "format(size_test, shape_test, shape_test[0]*shape_test[1]*shape_test[2]))"
   ]
  },
  {
   "cell_type": "code",
   "execution_count": 12,
   "id": "588ddf20",
   "metadata": {},
   "outputs": [],
   "source": [
    "# There is one other thing we need to do, we need to\n",
    "# record the number of samples in each dataset and the number of pixels in each image\n",
    "X_train = X_train.reshape(shape_train[0],shape_train[1]*shape_train[2])\n",
    "X_test = X_test.reshape(shape_test[0],shape_test[1]*shape_test[2])\n",
    "\n",
    "# Our data set contains images in 28*28 pixels which we have converted or reshaped into a one dimensional array or size 784\n",
    "# 28*28 = 784"
   ]
  },
  {
   "cell_type": "code",
   "execution_count": 13,
   "id": "74f7d2e8",
   "metadata": {},
   "outputs": [
    {
     "name": "stdout",
     "output_type": "stream",
     "text": [
      "Image Label: 5\n"
     ]
    },
    {
     "data": {
      "text/plain": [
       "<matplotlib.image.AxesImage at 0x21b369d8040>"
      ]
     },
     "execution_count": 13,
     "metadata": {},
     "output_type": "execute_result"
    },
    {
     "data": {
      "image/png": "[encoded data removed]",
      "text/plain": [
       "<Figure size 432x288 with 1 Axes>"
      ]
     },
     "metadata": {
      "needs_background": "light"
     },
     "output_type": "display_data"
    }
   ],
   "source": [
    "img_index = 189 # <<<<<  You can update this value to look at other images\n",
    "img = X_train[img_index]\n",
    "print(\"Image Label: \" + str(chr(y_train[img_index]+48)))\n",
    "plt.imshow(img.reshape((28,28)))"
   ]
  },
  {
   "cell_type": "code",
   "execution_count": 14,
   "id": "ccabc3ce",
   "metadata": {},
   "outputs": [
    {
     "name": "stdout",
     "output_type": "stream",
     "text": [
      "Created our first MLP network\n"
     ]
    }
   ],
   "source": [
    "# These two lines import the ML libraries we need\n",
    "from sklearn.datasets import fetch_openml\n",
    "from sklearn.neural_network import MLPClassifier\n",
    "\n",
    "# This creates our first MLP with 1 hidden layer with 100 neurons and sets it to run through the data 100 times\n",
    "mlp1 = MLPClassifier(hidden_layer_sizes=(100,), max_iter=100, alpha=1e-4,\n",
    "                    solver='sgd', verbose=10, tol=1e-4, random_state=1,\n",
    "                    learning_rate_init=.1)\n",
    "\n",
    "print(\"Created our first MLP network\")"
   ]
  },
  {
   "cell_type": "code",
   "execution_count": 15,
   "id": "6393d7f3",
   "metadata": {},
   "outputs": [
    {
     "name": "stdout",
     "output_type": "stream",
     "text": [
      "Iteration 1, loss = 0.64505632\n",
      "Iteration 2, loss = 0.44338139\n",
      "Iteration 3, loss = 0.40540569\n",
      "Iteration 4, loss = 0.38393876\n",
      "Iteration 5, loss = 0.37022649\n",
      "Iteration 6, loss = 0.35799170\n",
      "Iteration 7, loss = 0.35114432\n",
      "Iteration 8, loss = 0.34422875\n",
      "Iteration 9, loss = 0.33908236\n",
      "Iteration 10, loss = 0.33333763\n",
      "Iteration 11, loss = 0.32923796\n",
      "Iteration 12, loss = 0.32516674\n",
      "Iteration 13, loss = 0.32235350\n",
      "Iteration 14, loss = 0.31919429\n",
      "Iteration 15, loss = 0.31706495\n",
      "Iteration 16, loss = 0.31390563\n",
      "Iteration 17, loss = 0.31194928\n",
      "Iteration 18, loss = 0.31066533\n",
      "Iteration 19, loss = 0.30879622\n",
      "Iteration 20, loss = 0.30620884\n",
      "Iteration 21, loss = 0.30452109\n",
      "Iteration 22, loss = 0.30366310\n",
      "Iteration 23, loss = 0.30131472\n",
      "Iteration 24, loss = 0.30046756\n",
      "Iteration 25, loss = 0.29949766\n",
      "Iteration 26, loss = 0.29667566\n",
      "Iteration 27, loss = 0.29585905\n",
      "Iteration 28, loss = 0.29400311\n",
      "Iteration 29, loss = 0.29125091\n",
      "Iteration 30, loss = 0.29215801\n",
      "Iteration 31, loss = 0.29072722\n",
      "Iteration 32, loss = 0.29009018\n",
      "Iteration 33, loss = 0.28890084\n",
      "Iteration 34, loss = 0.28758567\n",
      "Iteration 35, loss = 0.28839297\n",
      "Iteration 36, loss = 0.28629492\n",
      "Iteration 37, loss = 0.28666359\n",
      "Iteration 38, loss = 0.28463031\n",
      "Iteration 39, loss = 0.28357168\n",
      "Iteration 40, loss = 0.28335629\n",
      "Iteration 41, loss = 0.28253086\n",
      "Iteration 42, loss = 0.28154245\n",
      "Iteration 43, loss = 0.28142831\n",
      "Iteration 44, loss = 0.28085054\n",
      "Iteration 45, loss = 0.27916001\n",
      "Iteration 46, loss = 0.27944862\n",
      "Iteration 47, loss = 0.27823628\n",
      "Iteration 48, loss = 0.27725111\n",
      "Iteration 49, loss = 0.27667199\n",
      "Iteration 50, loss = 0.27676624\n",
      "Iteration 51, loss = 0.27570188\n",
      "Iteration 52, loss = 0.27516773\n",
      "Iteration 53, loss = 0.27405317\n",
      "Iteration 54, loss = 0.27468530\n",
      "Iteration 55, loss = 0.27311381\n",
      "Iteration 56, loss = 0.27298152\n",
      "Iteration 57, loss = 0.27231621\n",
      "Iteration 58, loss = 0.27183730\n",
      "Iteration 59, loss = 0.27110204\n",
      "Iteration 60, loss = 0.27100549\n",
      "Iteration 61, loss = 0.26989481\n",
      "Iteration 62, loss = 0.26907360\n",
      "Iteration 63, loss = 0.26993867\n",
      "Iteration 64, loss = 0.26896574\n",
      "Iteration 65, loss = 0.26940765\n",
      "Iteration 66, loss = 0.26790767\n",
      "Iteration 67, loss = 0.26744051\n",
      "Iteration 68, loss = 0.26916829\n",
      "Iteration 69, loss = 0.26718152\n",
      "Iteration 70, loss = 0.26694873\n",
      "Iteration 71, loss = 0.26723049\n",
      "Iteration 72, loss = 0.26506286\n",
      "Iteration 73, loss = 0.26629840\n",
      "Iteration 74, loss = 0.26400458\n",
      "Iteration 75, loss = 0.26385969\n",
      "Iteration 76, loss = 0.26457075\n",
      "Iteration 77, loss = 0.26436101\n",
      "Iteration 78, loss = 0.26404030\n",
      "Iteration 79, loss = 0.26267857\n",
      "Iteration 80, loss = 0.26215704\n",
      "Iteration 81, loss = 0.26252651\n",
      "Iteration 82, loss = 0.26132402\n",
      "Iteration 83, loss = 0.26101991\n",
      "Iteration 84, loss = 0.26131611\n",
      "Iteration 85, loss = 0.26074784\n",
      "Iteration 86, loss = 0.26009428\n",
      "Iteration 87, loss = 0.26094319\n",
      "Iteration 88, loss = 0.26026274\n",
      "Iteration 89, loss = 0.26160639\n",
      "Iteration 90, loss = 0.26049914\n",
      "Iteration 91, loss = 0.25954670\n",
      "Iteration 92, loss = 0.26016380\n",
      "Iteration 93, loss = 0.26047493\n",
      "Iteration 94, loss = 0.25847026\n",
      "Iteration 95, loss = 0.25745173\n",
      "Iteration 96, loss = 0.25833308\n",
      "Iteration 97, loss = 0.25836523\n",
      "Iteration 98, loss = 0.25690609\n",
      "Iteration 99, loss = 0.25665124\n",
      "Iteration 100, loss = 0.25677803\n"
     ]
    },
    {
     "name": "stderr",
     "output_type": "stream",
     "text": [
      "C:\\ProgramData\\Anaconda3\\lib\\site-packages\\sklearn\\neural_network\\_multilayer_perceptron.py:614: ConvergenceWarning: Stochastic Optimizer: Maximum iterations (100) reached and the optimization hasn't converged yet.\n",
      "  warnings.warn(\n"
     ]
    },
    {
     "name": "stdout",
     "output_type": "stream",
     "text": [
      "Training set score: 0.919243\n",
      "Test set score: 0.873401\n"
     ]
    }
   ],
   "source": [
    "#now we are training our model mlp1 over our train data set\n",
    "mlp1.fit(X_train, y_train)\n",
    "print(\"Training set score: %f\" % mlp1.score(X_train, y_train))\n",
    "print(\"Test set score: %f\" % mlp1.score(X_test, y_test))"
   ]
  },
  {
   "cell_type": "code",
   "execution_count": 16,
   "id": "3abc507f",
   "metadata": {},
   "outputs": [
    {
     "data": {
      "text/plain": [
       "<matplotlib.image.AxesImage at 0x21b374bc5e0>"
      ]
     },
     "execution_count": 16,
     "metadata": {},
     "output_type": "execute_result"
    },
    {
     "data": {
      "image/png": "[encoded data removed]",
      "text/plain": [
       "<Figure size 288x288 with 1 Axes>"
      ]
     },
     "metadata": {
      "needs_background": "light"
     },
     "output_type": "display_data"
    }
   ],
   "source": [
    "# First let's initialize a list with all the predicted values from the training set\n",
    "y_pred = mlp1.predict(X_test)\n",
    "\n",
    "# Now let's visualize the errors between the predictions and the actual labels using a confusion matrix\n",
    "from sklearn.metrics import confusion_matrix\n",
    "cm = confusion_matrix(y_test, y_pred)\n",
    "plt.matshow(cm)"
   ]
  },
  {
   "cell_type": "code",
   "execution_count": 29,
   "id": "7f205a58",
   "metadata": {},
   "outputs": [
    {
     "name": "stdout",
     "output_type": "stream",
     "text": [
      "There were 4 times that the letter m was predicted to be the letter w.\n",
      "Couldn't show mistake number 5 because there were only 4 mistakes to show!\n"
     ]
    }
   ],
   "source": [
    "# You can change this to any letters that you think the neural network may have confused...\n",
    "predicted_letter = 'w'\n",
    "actual_letter = 'm'\n",
    "\n",
    "\n",
    "# This code counts all mistakes for the letters above\n",
    "mistake_list = []\n",
    "for i in range(len(y_test)):\n",
    "  if (y_test[i] == (ord(actual_letter) - 48) and y_pred[i] == (ord(predicted_letter) - 48)):\n",
    "    mistake_list.append(i)\n",
    "print(\"There were \" + str(len(mistake_list)) + \" times that the letter \" + actual_letter + \" was predicted to be the letter \" + predicted_letter + \".\")\n",
    "\n",
    "# Once we know how many mistakes were made, we can change this to see an image of a particular one\n",
    "mistake_to_show = 4 # <<< e.g., change this to 3 if you want to see the 4th mistake\n",
    "\n",
    "# This code checks that the number mistake you asked for can be shown and if so, displays an image of it\n",
    "if (len(mistake_list)> mistake_to_show):\n",
    "  img = X_test[mistake_list[mistake_to_show]]\n",
    "  plt.imshow(img.reshape((28,28)))\n",
    "else:\n",
    "  print(\"Couldn't show mistake number \" + str(mistake_to_show + 1) + \" because there were only \" + str(len(mistake_list)) + \" mistakes to show!\")"
   ]
  },
  {
   "cell_type": "code",
   "execution_count": 18,
   "id": "1edc42f1",
   "metadata": {},
   "outputs": [
    {
     "name": "stdout",
     "output_type": "stream",
     "text": [
      "Iteration 1, loss = 0.83048463\n",
      "Iteration 2, loss = 0.47065108\n",
      "Iteration 3, loss = 0.41695923\n",
      "Iteration 4, loss = 0.38915720\n",
      "Iteration 5, loss = 0.37061135\n",
      "Iteration 6, loss = 0.35634802\n",
      "Iteration 7, loss = 0.34862331\n",
      "Iteration 8, loss = 0.33899981\n",
      "Iteration 9, loss = 0.33340450\n",
      "Iteration 10, loss = 0.33086185\n",
      "Iteration 11, loss = 0.32647867\n",
      "Iteration 12, loss = 0.31938545\n",
      "Iteration 13, loss = 0.32002330\n",
      "Iteration 14, loss = 0.31718773\n",
      "Iteration 15, loss = 0.31305734\n",
      "Iteration 16, loss = 0.31316699\n",
      "Iteration 17, loss = 0.31159569\n",
      "Iteration 18, loss = 0.30976998\n",
      "Iteration 19, loss = 0.31019428\n",
      "Iteration 20, loss = 0.31026618\n",
      "Iteration 21, loss = 0.30565884\n",
      "Iteration 22, loss = 0.30978830\n",
      "Iteration 23, loss = 0.31013414\n",
      "Iteration 24, loss = 0.30818293\n",
      "Iteration 25, loss = 0.31045449\n",
      "Iteration 26, loss = 0.30722785\n",
      "Iteration 27, loss = 0.31194377\n",
      "Iteration 28, loss = 0.31698420\n",
      "Iteration 29, loss = 0.31188212\n",
      "Iteration 30, loss = 0.31631082\n",
      "Iteration 31, loss = 0.31925826\n",
      "Iteration 32, loss = 0.32098475\n",
      "Training loss did not improve more than tol=0.000100 for 10 consecutive epochs. Stopping.\n",
      "Training set score: 0.910565\n",
      "Test set score: 0.888880\n"
     ]
    }
   ],
   "source": [
    "# Change some of the values in the below statement and re-run to increase the accuracy of the model\n",
    "# affect performance!\n",
    "mlp2 = MLPClassifier(hidden_layer_sizes=(100,150,200,200,150,100,), max_iter=100, alpha=1e-4,\n",
    "                    solver='sgd', verbose=10, tol=1e-4, random_state=1,\n",
    "                    learning_rate_init=.1)\n",
    "mlp2.fit(X_train, y_train)\n",
    "print(\"Training set score: %f\" % mlp2.score(X_train, y_train))\n",
    "print(\"Test set score: %f\" % mlp2.score(X_test, y_test))"
   ]
  },
  {
   "cell_type": "code",
   "execution_count": 19,
   "id": "146eb208",
   "metadata": {},
   "outputs": [
    {
     "data": {
      "text/plain": [
       "<matplotlib.image.AxesImage at 0x21b36c77070>"
      ]
     },
     "execution_count": 19,
     "metadata": {},
     "output_type": "execute_result"
    },
    {
     "data": {
      "image/png": "[encoded data removed]",
      "text/plain": [
       "<Figure size 288x288 with 1 Axes>"
      ]
     },
     "metadata": {
      "needs_background": "light"
     },
     "output_type": "display_data"
    }
   ],
   "source": [
    "# First let's initialize a list with all the predicted values from the training set\n",
    "y_pred2 = mlp2.predict(X_test)\n",
    "\n",
    "# Now let's visualize the errors between the predictions and the actual labels using a confusion matrix\n",
    "from sklearn.metrics import confusion_matrix\n",
    "cm = confusion_matrix(y_test, y_pred2)\n",
    "plt.matshow(cm)"
   ]
  },
  {
   "cell_type": "code",
   "execution_count": 28,
   "id": "73942ee6",
   "metadata": {},
   "outputs": [
    {
     "name": "stdout",
     "output_type": "stream",
     "text": [
      "There were 8 times that the letter m was predicted to be the letter w.\n"
     ]
    },
    {
     "data": {
      "image/png": "[encoded data removed]",
      "text/plain": [
       "<Figure size 432x288 with 1 Axes>"
      ]
     },
     "metadata": {
      "needs_background": "light"
     },
     "output_type": "display_data"
    }
   ],
   "source": [
    "# You can change this to any letters that you think the neural network may have confused...\n",
    "predicted_letter = 'w'\n",
    "actual_letter = 'm'\n",
    "\n",
    "\n",
    "# This code counts all mistakes for the letters above\n",
    "mistake_list = []\n",
    "for i in range(len(y_test)):\n",
    "  if (y_test[i] == (ord(actual_letter) - 48) and y_pred2[i] == (ord(predicted_letter) - 48)):\n",
    "    mistake_list.append(i)\n",
    "print(\"There were \" + str(len(mistake_list)) + \" times that the letter \" + actual_letter + \" was predicted to be the letter \" + predicted_letter + \".\")\n",
    "\n",
    "# Once we know how many mistakes were made, we can change this to see an image of a particular one\n",
    "mistake_to_show = 4 # <<< e.g., change this to 3 if you want to see the 4th mistake\n",
    "\n",
    "# This code checks that the number mistake you asked for can be shown and if so, displays an image of it\n",
    "if (len(mistake_list)> mistake_to_show):\n",
    "  img = X_test[mistake_list[mistake_to_show]]\n",
    "  plt.imshow(img.reshape((28,28)))\n",
    "else:\n",
    "  print(\"Couldn't show mistake number \" + str(mistake_to_show + 1) + \" because there were only \" + str(len(mistake_list)) + \" mistakes to show!\")"
   ]
  },
  {
   "cell_type": "code",
   "execution_count": 32,
   "id": "041e6df7",
   "metadata": {},
   "outputs": [],
   "source": [
    "# Puts all the data in the \"files\" variable\n",
    "import os\n",
    "path, dirs, files = next(os.walk(\"/Users/DELL NOTEBOOK/Documents/CHARACTER RECOGNITION/lab1-neural-networks/letters_mod/\"))\n",
    "files.sort()"
   ]
  },
  {
   "cell_type": "code",
   "execution_count": 34,
   "id": "5268544c",
   "metadata": {},
   "outputs": [
    {
     "name": "stdout",
     "output_type": "stream",
     "text": [
      "Imported the scanned images.\n"
     ]
    },
    {
     "data": {
      "text/plain": [
       "<matplotlib.image.AxesImage at 0x21b397073a0>"
      ]
     },
     "execution_count": 34,
     "metadata": {},
     "output_type": "execute_result"
    },
    {
     "data": {
      "image/png": "[encoded data removed]",
      "text/plain": [
       "<Figure size 432x288 with 1 Axes>"
      ]
     },
     "metadata": {
      "needs_background": "light"
     },
     "output_type": "display_data"
    }
   ],
   "source": [
    "# These libraries let us import the letters, resize them, and print them out\n",
    "import cv2\n",
    "import matplotlib.pyplot as plt\n",
    "\n",
    "# This code processes all the scanned images and adds them to the handwritten_story\n",
    "handwritten_story = []\n",
    "for i in range(len(files)):\n",
    "  img = cv2.imread(\"/Users/DELL NOTEBOOK/Documents/CHARACTER RECOGNITION/lab1-neural-networks/letters_mod/\"+files[i],cv2.IMREAD_GRAYSCALE)\n",
    "  handwritten_story.append(img)\n",
    "\n",
    "print(\"Imported the scanned images.\")\n",
    "\n",
    "plt.imshow(handwritten_story[4])  #<--- Change this index to see different letters\n"
   ]
  },
  {
   "cell_type": "code",
   "execution_count": 36,
   "id": "84f25bac",
   "metadata": {},
   "outputs": [
    {
     "name": "stdout",
     "output_type": "stream",
     "text": [
      "Conversion to typed story complete!\n",
      "thejfkuktjt4jov8jp04frjs4pplzesjijrcrrjihjlovejthej4kyjy7vrjbktteryjdtlsjsl0weyjkhdjthchjkl2jktj0kce\n"
     ]
    }
   ],
   "source": [
    "# These are libraries we need to do some math on the image\n",
    "# to be able to give it to the MLP in the right format and to resize it to 28x28 pixels\n",
    "import numpy\n",
    "import cv2\n",
    "\n",
    "typed_story = \"\"\n",
    "for letter in handwritten_story:\n",
    "    letter = cv2.resize(letter, (28,28), interpolation = cv2.INTER_CUBIC)\n",
    "    single_item_array = (numpy.array(letter)).reshape(1,784)\n",
    "    prediction = mlp2.predict(single_item_array)\n",
    "    typed_story = typed_story + str(chr(prediction[0]+48))\n",
    "    \n",
    "print(\"Conversion to typed story complete!\")\n",
    "print(typed_story)"
   ]
  },
  {
   "cell_type": "code",
   "execution_count": 42,
   "id": "eb50345a",
   "metadata": {},
   "outputs": [
    {
     "name": "stdout",
     "output_type": "stream",
     "text": [
      "Conversion to typed story complete!\n",
      "the fkukt t4 ov8 p04fr s4pplzes i rcrr ih love the 4ky y7vr bkttery dtls sl0wey khd thch kl2 kt 0kce\n"
     ]
    }
   ],
   "source": [
    "# This is a library we need to do some math on the image to be able to give it to the MLP in the right format\n",
    "import numpy\n",
    "\n",
    "typed_story = \"\"\n",
    "for letter in handwritten_story:\n",
    "  letter = cv2.resize(letter, (28,28), interpolation = cv2.INTER_CUBIC)\n",
    "    \n",
    "  #this bit of code checks to see if the image is just a blank space by looking at the color of all the pixels summed\n",
    "  total_pixel_value = 0\n",
    "  for j in range(28):\n",
    "    for k in range(28):\n",
    "      total_pixel_value += letter[j,k]\n",
    "  if total_pixel_value < 20:\n",
    "    typed_story = typed_story + \" \"\n",
    "  else:         #if it NOT a blank, it actually runs the prediction algorithm on it\n",
    "    single_item_array = (numpy.array(letter)).reshape(1,784)\n",
    "    prediction = mlp2.predict(single_item_array)\n",
    "    typed_story = typed_story + str(chr(prediction[0]+48))\n",
    "    \n",
    "print(\"Conversion to typed story complete!\")\n",
    "print(typed_story)"
   ]
  },
  {
   "cell_type": "code",
   "execution_count": 43,
   "id": "862ed822",
   "metadata": {},
   "outputs": [
    {
     "name": "stdout",
     "output_type": "stream",
     "text": [
      "Processed the scanned images.\n"
     ]
    },
    {
     "data": {
      "text/plain": [
       "<matplotlib.image.AxesImage at 0x21b2f9618e0>"
      ]
     },
     "execution_count": 43,
     "metadata": {},
     "output_type": "execute_result"
    },
    {
     "data": {
      "image/png": "[encoded data removed]",
      "text/plain": [
       "<Figure size 432x288 with 1 Axes>"
      ]
     },
     "metadata": {
      "needs_background": "light"
     },
     "output_type": "display_data"
    }
   ],
   "source": [
    "# These steps process the scanned images to be in the same format and have the same properties as the EMNIST images\n",
    "# They are described by the EMNIST authors in detail here: https://arxiv.org/abs/1702.05373v1\n",
    "processed_story = []\n",
    "\n",
    "for img in handwritten_story:\n",
    "  #step 1: Apply Gaussian blur filter\n",
    "  img = cv2.GaussianBlur(img, (7,7), 0)\n",
    "  \n",
    "  #steps 2 and 3: Extract the Region of Interest in the image and center in square\n",
    "  points = cv2.findNonZero(img)\n",
    "  x, y, w, h = cv2.boundingRect(points)\n",
    "  if (w > 0 and h > 0):\n",
    "    if w > h:\n",
    "      y = y - (w-h)//2\n",
    "      img = img[y:y+w, x:x+w]\n",
    "    else:\n",
    "      x = x - (h-w)//2\n",
    "      img = img[y:y+h, x:x+h]\n",
    "     \n",
    "  #step 4: Resize and resample to be 28 x 28 pixels\n",
    "  img = cv2.resize(img, (28,28), interpolation = cv2.INTER_CUBIC)\n",
    "  \n",
    "  #step 5: Normalize pixels and reshape before adding to the new story array\n",
    "  img = img/255\n",
    "  img = img.reshape((28,28))\n",
    "  processed_story.append(img)\n",
    "\n",
    "print(\"Processed the scanned images.\")\n",
    "\n",
    "import matplotlib.pyplot as plt\n",
    "plt.imshow(processed_story[4]) #<<< change this index if you want to see a different letter from the story"
   ]
  },
  {
   "cell_type": "code",
   "execution_count": 44,
   "id": "e1532ba4",
   "metadata": {},
   "outputs": [
    {
     "name": "stdout",
     "output_type": "stream",
     "text": [
      "Conversion to typed story complete!\n",
      "the fault tn 0ur p0wer suppl7es i fell in l0ve the way y0ur battery dies sk0wly and then all at 0nce\n"
     ]
    }
   ],
   "source": [
    "# This is a library we need to do some math on the image to be able to give it to the MLP in the right format\n",
    "import numpy\n",
    "\n",
    "typed_story = \"\"\n",
    "for letter in processed_story:\n",
    "  #this bit of code checks to see if the image is just a blank space by looking at the color of all the pixels summed\n",
    "  total_pixel_value = 0\n",
    "  for j in range(28):\n",
    "    for k in range(28):\n",
    "      total_pixel_value += letter[j,k]\n",
    "  if total_pixel_value < 20:\n",
    "    typed_story = typed_story + \" \"\n",
    "  else:         #if it NOT a blank, it actually runs the prediction algorithm on it\n",
    "    single_item_array = (numpy.array(letter)).reshape(1,784)\n",
    "    prediction = mlp2.predict(single_item_array)\n",
    "    typed_story = typed_story + str(chr(prediction[0]+48))\n",
    "    \n",
    "print(\"Conversion to typed story complete!\")\n",
    "print(typed_story)"
   ]
  },
  {
   "cell_type": "code",
   "execution_count": null,
   "id": "31230f5b",
   "metadata": {},
   "outputs": [],
   "source": []
  }
 ],
 "metadata": {
  "kernelspec": {
   "display_name": "Python 3 (ipykernel)",
   "language": "python",
   "name": "python3"
  },
  "language_info": {
   "codemirror_mode": {
    "name": "ipython",
    "version": 3
   },
   "file_extension": ".py",
   "mimetype": "text/x-python",
   "name": "python",
   "nbconvert_exporter": "python",
   "pygments_lexer": "ipython3",
   "version": "3.9.7"
  }
 },
 "nbformat": 4,
 "nbformat_minor": 5
}
